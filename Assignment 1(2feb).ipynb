{
 "cells": [
  {
   "cell_type": "markdown",
   "id": "170d9602-8ec6-469c-b321-c8311ab5a5a6",
   "metadata": {},
   "source": [
    "Q1. Explain with an example each when to use a for loop and a while loop."
   ]
  },
  {
   "cell_type": "markdown",
   "id": "e69e5139-aa62-4882-bf08-eeb7ac5484e6",
   "metadata": {},
   "source": [
    "Ans:  The major difference between for loop and the while loop is that for loop is used when the number of iterations is known, whereas execution is done in the while loop until the statement in the program is proved wrong."
   ]
  },
  {
   "cell_type": "code",
   "execution_count": 4,
   "id": "a0146ce4-4001-4fac-af55-576f7fad3b27",
   "metadata": {},
   "outputs": [
    {
     "name": "stdout",
     "output_type": "stream",
     "text": [
      "0\n",
      "1\n",
      "2\n",
      "3\n",
      "4\n",
      "5\n",
      "6\n",
      "\n",
      "0\n",
      "1\n",
      "2\n",
      "3\n",
      "4\n"
     ]
    }
   ],
   "source": [
    "# for loop\n",
    "for i in range (7):\n",
    "    print(i)\n",
    "# here iteration count in known,it is 7\n",
    "print()\n",
    "\n",
    "# while loop\n",
    "i=0\n",
    "n=5\n",
    "while i<n:\n",
    "    print(i)\n",
    "    i=i+1\n",
    "# it ends when the condition is proven wrong"
   ]
  },
  {
   "cell_type": "markdown",
   "id": "0965a15f-4d1a-4b89-bc53-7070b58475a8",
   "metadata": {},
   "source": [
    "Q2. Write a python program to print the sum and product of the first 10 natural numbers using for and while loop."
   ]
  },
  {
   "cell_type": "code",
   "execution_count": 10,
   "id": "53ac4fa9-ac39-43fa-8f6e-e633f18aa7d6",
   "metadata": {},
   "outputs": [
    {
     "name": "stdout",
     "output_type": "stream",
     "text": [
      "55\n",
      "3628800\n"
     ]
    }
   ],
   "source": [
    "# using for loop\n",
    "sum=0\n",
    "product=1\n",
    "for i in range(1,11):     # natural numbers 1,2,3,4,5,6,7,8,9,10\n",
    "    sum=sum+i\n",
    "    product=product*i\n",
    "print(sum)\n",
    "print(product)\n",
    "    "
   ]
  },
  {
   "cell_type": "code",
   "execution_count": 9,
   "id": "eeb4aed5-021b-43e1-ac39-cab90fa8e027",
   "metadata": {},
   "outputs": [
    {
     "name": "stdout",
     "output_type": "stream",
     "text": [
      "55\n",
      "3628800\n"
     ]
    }
   ],
   "source": [
    "# using while loop\n",
    "sum=0\n",
    "product=1\n",
    "counter=1\n",
    "while counter<11:      # natural numbers 1,2,3,4,5,6,7,8,9,10\n",
    "    sum=sum+counter\n",
    "    product=product*counter\n",
    "    counter=counter+1\n",
    "print(sum)\n",
    "print(product)"
   ]
  },
  {
   "cell_type": "markdown",
   "id": "37d3ec45-1948-4c21-8602-7e00a598674e",
   "metadata": {},
   "source": [
    "Q3. Create a python program to compute the electricity bill for a household. The per-unit charges in rupees are as follows: For the first 100 units, the user will be charged Rs. 4.5 per unit, for the next 100 units, the user will be charged Rs. 6 per unit, and for the next 100 units, the user will be charged Rs. 10 per unit, After 300 units and above the user will be charged Rs. 20 per unit. You are required to take the units of electricity consumed in a month from the user as input. Your program must pass this test case: when the unit of electricity consumed by the user in a month is 310, the total electricity bill should be 2250."
   ]
  },
  {
   "cell_type": "code",
   "execution_count": 18,
   "id": "35aa6f4d-1632-4c7e-8f33-d3d9afe10e20",
   "metadata": {},
   "outputs": [
    {
     "name": "stdin",
     "output_type": "stream",
     "text": [
      "Enter the monthly power consumption:  310\n"
     ]
    },
    {
     "name": "stdout",
     "output_type": "stream",
     "text": [
      "Electric bill:  2250.0\n"
     ]
    }
   ],
   "source": [
    "power_consumption=eval(input(\"Enter the monthly power consumption: \"))\n",
    "if power_consumption<=100:\n",
    "    electricity_bill= 4.5 * power_consumption\n",
    "elif power_consumption>100 and power_consumption<=200:\n",
    "    electricity_bill= 4.5 * 100 + 6 * (power_consumption-100)\n",
    "elif power_consumption>300:\n",
    "    electricity_bill= 4.5 * 100 + 6 * (100) + 10 * 100 + 20*(power_consumption-300)\n",
    "print(\"Electric bill: \",electricity_bill)\n",
    "\n",
    "    \n",
    "    "
   ]
  },
  {
   "cell_type": "markdown",
   "id": "730f9d83-aa8e-44e8-84c5-7bebc60c648b",
   "metadata": {},
   "source": [
    "Q4. Create a list of numbers from 1 to 100. Use for loop and while loop to calculate the cube of each number and if the cube of that number is divisible by 4 or 5 then append that number in a list and print that list."
   ]
  },
  {
   "cell_type": "code",
   "execution_count": 6,
   "id": "e726e176-ba21-40a6-8b83-361bb3773ce3",
   "metadata": {},
   "outputs": [
    {
     "name": "stdout",
     "output_type": "stream",
     "text": [
      "[2, 4, 5, 6, 8, 10, 12, 14, 15, 16, 18, 20, 22, 24, 25, 26, 28, 30, 32, 34, 35, 36, 38, 40, 42, 44, 45, 46, 48, 50, 52, 54, 55, 56, 58, 60, 62, 64, 65, 66, 68, 70, 72, 74, 75, 76, 78, 80, 82, 84, 85, 86, 88, 90, 92, 94, 95, 96, 98, 100]\n",
      "60\n"
     ]
    }
   ],
   "source": [
    "# using for loop\n",
    "a=list(i for i in range(1,101) if (i**3)%4==0 or (i**3)%5==0)\n",
    "print(a)\n",
    "print(len(a))"
   ]
  },
  {
   "cell_type": "code",
   "execution_count": 5,
   "id": "2475052e-9603-4c81-8434-4c02f909eca4",
   "metadata": {},
   "outputs": [
    {
     "name": "stdout",
     "output_type": "stream",
     "text": [
      "[2, 4, 5, 6, 8, 10, 12, 14, 15, 16, 18, 20, 22, 24, 25, 26, 28, 30, 32, 34, 35, 36, 38, 40, 42, 44, 45, 46, 48, 50, 52, 54, 55, 56, 58, 60, 62, 64, 65, 66, 68, 70, 72, 74, 75, 76, 78, 80, 82, 84, 85, 86, 88, 90, 92, 94, 95, 96, 98, 100]\n"
     ]
    }
   ],
   "source": [
    "# using while loop\n",
    "l=[]\n",
    "counter=1\n",
    "while counter<=100:\n",
    "    if (counter**3)%4==0 or (counter**3)%5==0:\n",
    "            l.append(counter)\n",
    "    counter=counter+1\n",
    "print(l)"
   ]
  },
  {
   "cell_type": "markdown",
   "id": "5f34e3c5-dc0c-4c5f-8395-d880300794d3",
   "metadata": {},
   "source": [
    "Q5. Write a program to filter count vowels in the below-given string. string = \"I want to become a data scientist\""
   ]
  },
  {
   "cell_type": "code",
   "execution_count": 9,
   "id": "f2b0083f-900f-4ba6-8c9d-0fcca3b7dde9",
   "metadata": {},
   "outputs": [
    {
     "name": "stdout",
     "output_type": "stream",
     "text": [
      "12\n"
     ]
    }
   ],
   "source": [
    "# using for loop\n",
    "string = \"I want to become a data scientist\"\n",
    "count=0\n",
    "for i in string.lower():\n",
    "    if i==\"a\" or i==\"e\" or i==\"i\" or i==\"o\" or i==\"u\" :\n",
    "        count=count+1\n",
    "print(count)\n",
    "    "
   ]
  },
  {
   "cell_type": "code",
   "execution_count": 12,
   "id": "f5195435-dfed-469b-a450-4c3d71b4d6d6",
   "metadata": {},
   "outputs": [
    {
     "name": "stdout",
     "output_type": "stream",
     "text": [
      "12\n"
     ]
    }
   ],
   "source": [
    "# using while loop\n",
    "string = \"I want to become a data scientist\"\n",
    "count=0\n",
    "counter=0\n",
    "while counter<len(string):\n",
    "    i=string[counter].lower()\n",
    "    if i==\"a\" or i==\"e\" or i==\"i\" or i==\"o\" or i==\"u\" :\n",
    "        count=count+1\n",
    "    counter=counter+1\n",
    "print(count)"
   ]
  },
  {
   "cell_type": "code",
   "execution_count": null,
   "id": "21315ecb-0c43-4e77-919a-9ee14a1c7a87",
   "metadata": {},
   "outputs": [],
   "source": []
  }
 ],
 "metadata": {
  "kernelspec": {
   "display_name": "Python 3 (ipykernel)",
   "language": "python",
   "name": "python3"
  },
  "language_info": {
   "codemirror_mode": {
    "name": "ipython",
    "version": 3
   },
   "file_extension": ".py",
   "mimetype": "text/x-python",
   "name": "python",
   "nbconvert_exporter": "python",
   "pygments_lexer": "ipython3",
   "version": "3.10.8"
  }
 },
 "nbformat": 4,
 "nbformat_minor": 5
}
